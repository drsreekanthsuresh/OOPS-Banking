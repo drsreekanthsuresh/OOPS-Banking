{
 "cells": [
  {
   "cell_type": "code",
   "execution_count": 7,
   "id": "ff26992e-62c8-4044-bfc1-4a9d367e9266",
   "metadata": {},
   "outputs": [
    {
     "name": "stdout",
     "output_type": "stream",
     "text": [
      "Welcome to the Banking System!\n"
     ]
    },
    {
     "name": "stdin",
     "output_type": "stream",
     "text": [
      "Username:  user1\n",
      "Password:  pass1\n"
     ]
    },
    {
     "name": "stdout",
     "output_type": "stream",
     "text": [
      "Logged in successfully.\n",
      "\n",
      "1. Deposit\n",
      "2. Withdraw\n",
      "3. Check Balance\n",
      "4. Log Out\n"
     ]
    },
    {
     "name": "stdin",
     "output_type": "stream",
     "text": [
      "Choose an option:  1\n",
      "Enter amount to deposit: ₹ 125000\n"
     ]
    },
    {
     "name": "stdout",
     "output_type": "stream",
     "text": [
      "Deposited ₹125000.0. New balance: ₹125000.0\n",
      "\n",
      "1. Deposit\n",
      "2. Withdraw\n",
      "3. Check Balance\n",
      "4. Log Out\n"
     ]
    },
    {
     "name": "stdin",
     "output_type": "stream",
     "text": [
      "Choose an option:  2\n",
      "Enter amount to withdraw: ₹ 70500\n"
     ]
    },
    {
     "name": "stdout",
     "output_type": "stream",
     "text": [
      "Withdrew ₹70500.0. New balance: ₹54500.0\n",
      "\n",
      "1. Deposit\n",
      "2. Withdraw\n",
      "3. Check Balance\n",
      "4. Log Out\n"
     ]
    },
    {
     "name": "stdin",
     "output_type": "stream",
     "text": [
      "Choose an option:  3\n"
     ]
    },
    {
     "name": "stdout",
     "output_type": "stream",
     "text": [
      "Your current balance is: ₹54500.0\n",
      "\n",
      "1. Deposit\n",
      "2. Withdraw\n",
      "3. Check Balance\n",
      "4. Log Out\n"
     ]
    },
    {
     "name": "stdin",
     "output_type": "stream",
     "text": [
      "Choose an option:  4\n"
     ]
    },
    {
     "name": "stdout",
     "output_type": "stream",
     "text": [
      "Goodbye!\n"
     ]
    }
   ],
   "source": [
    "class BankAccount:\n",
    "    def __init__(self, username, password):\n",
    "        self.username = username\n",
    "        self.password = password\n",
    "        self.balance = 0\n",
    "\n",
    "    def deposit(self, amount):\n",
    "        self.balance += amount\n",
    "        print(f\"Deposited ₹{amount}. New balance: ₹{self.balance}\")\n",
    "\n",
    "    def withdraw(self, amount):\n",
    "        if amount > self.balance:\n",
    "            print(\"Not enough balance.\")\n",
    "        else:\n",
    "            self.balance -= amount\n",
    "            print(f\"Withdrew ₹{amount}. New balance: ₹{self.balance}\")\n",
    "\n",
    "    def show_balance(self):\n",
    "        print(f\"Your current balance is: ₹{self.balance}\")\n",
    "\n",
    "\n",
    "def login(accounts):\n",
    "    print(\"Welcome to the Banking System!\")\n",
    "    username = input(\"Username: \")\n",
    "    password = input(\"Password: \")\n",
    "\n",
    "    if username in accounts and accounts[username].password == password:\n",
    "        print(\"Logged in successfully.\")\n",
    "        return accounts[username]\n",
    "    else:\n",
    "        print(\"Login failed.\")\n",
    "        return None\n",
    "\n",
    "\n",
    "def main():\n",
    "    accounts = {\n",
    "        \"user1\": BankAccount(\"user1\", \"pass1\"),\n",
    "        \"user2\": BankAccount(\"user2\", \"pass2\"),\n",
    "    }\n",
    "\n",
    "    user = None\n",
    "    while not user:\n",
    "        user = login(accounts)\n",
    "\n",
    "    while True:\n",
    "        print(\"\\n1. Deposit\")\n",
    "        print(\"2. Withdraw\")\n",
    "        print(\"3. Check Balance\")\n",
    "        print(\"4. Log Out\")\n",
    "        choice = input(\"Choose an option: \")\n",
    "\n",
    "        if choice == \"1\":\n",
    "            amount = float(input(\"Enter amount to deposit: ₹\"))\n",
    "            user.deposit(amount)\n",
    "        elif choice == \"2\":\n",
    "            amount = float(input(\"Enter amount to withdraw: ₹\"))\n",
    "            user.withdraw(amount)\n",
    "        elif choice == \"3\":\n",
    "            user.show_balance()\n",
    "        elif choice == \"4\":\n",
    "            print(\"Goodbye!\")\n",
    "            break\n",
    "\n",
    "\n",
    "if __name__ == \"__main__\":\n",
    "    main()\n"
   ]
  },
  {
   "cell_type": "code",
   "execution_count": null,
   "id": "fa62a385-67b9-4e87-96e7-a8462523cd6c",
   "metadata": {},
   "outputs": [],
   "source": []
  }
 ],
 "metadata": {
  "kernelspec": {
   "display_name": "Python 3 (ipykernel)",
   "language": "python",
   "name": "python3"
  },
  "language_info": {
   "codemirror_mode": {
    "name": "ipython",
    "version": 3
   },
   "file_extension": ".py",
   "mimetype": "text/x-python",
   "name": "python",
   "nbconvert_exporter": "python",
   "pygments_lexer": "ipython3",
   "version": "3.12.4"
  }
 },
 "nbformat": 4,
 "nbformat_minor": 5
}
